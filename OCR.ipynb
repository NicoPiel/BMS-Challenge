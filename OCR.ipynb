{
 "cells": [
  {
   "cell_type": "code",
   "execution_count": 5,
   "id": "c4db02ba-18f2-413c-9e6e-2dd099224ff0",
   "metadata": {},
   "outputs": [],
   "source": [
    "import cv2\n",
    "import numpy as np\n",
    "import matplotlib.pyplot as plt\n",
    "import seaborn as sns\n",
    "\n",
    "sns.set_theme()"
   ]
  },
  {
   "cell_type": "code",
   "execution_count": 6,
   "id": "fd938454-8be7-45f4-abdd-9220b5c2c672",
   "metadata": {},
   "outputs": [],
   "source": [
    "# Some basic functions to improve letter readibility\n",
    "\n",
    "def get_grayscale(image):\n",
    "    \"\"\"Convert an image from RBG to grayscale\n",
    "    \n",
    "    :param image: the image to convert to grayscale.\n",
    "\n",
    "    \"\"\"\n",
    "    return cv2.cvtColor(image, cv2.COLOR_BGR2GRAY)\n",
    " \n",
    "def thresholding(image, inverted = False):\n",
    "    \"\"\"Apply thresholding to an image\n",
    "\n",
    "    :param image: the image to apply thresholding to.\n",
    "    :param inverted: whether to apply inversion\n",
    "\n",
    "    \"\"\"\n",
    "    if inverted:\n",
    "        return cv2.threshold(image, 0, 255, cv2.THRESH_BINARY_INV + cv2.THRESH_OTSU)[1]\n",
    "    else: \n",
    "        return cv2.threshold(image, 0, 255, cv2.THRESH_BINARY + cv2.THRESH_OTSU)[1]\n",
    "\n",
    "def dilate(image, kernel_x = 2, kernel_y = 2, iterations = 1):\n",
    "    \"\"\"Dilate an image\n",
    "\n",
    "    :param image: the image to apply dilation to.\n",
    "    :param kernel_x: the width of the kernel matrix\n",
    "    :param kernel_y: the height of the kernel matrix\n",
    "    :param iterations: the number of times to apply dilation\n",
    "\n",
    "    Equal to erosion, if inverted thresholding was applied.\n",
    "    \"\"\"\n",
    "    kernel = np.ones((kernel_x, kernel_y),np.uint8)\n",
    "    return cv2.dilate(image, kernel, iterations = iterations)\n",
    "    \n",
    "#erosion\n",
    "def erode(image, kernel_x = 2, kernel_y = 2, iterations = 1):\n",
    "    \"\"\"Erode an image to thicken lines.\n",
    "\n",
    "    :param image: the image to apply erosion to.\n",
    "    :param kernel_x: the width of the kernel matrix\n",
    "    :param kernel_y: the height of the kernel matrix\n",
    "    :param iterations: the number of times to apply erosion\n",
    "\n",
    "    Equal to dilation, if normal thresholding was applied.\n",
    "    \"\"\"\n",
    "    kernel = np.ones((kernel_x, kernel_y),np.uint8)\n",
    "    return cv2.erode(image, kernel, iterations = iterations)\n",
    "    \n",
    "def improve_quality(image, inverted = False):\n",
    "    \"\"\"Combine all the methods to generate a better image\n",
    "    \n",
    "    :param image: the image to improve the quality of.\n",
    "    :param inverted: whether to apply inverted thresholding.\n",
    "    \n",
    "    \"\"\"\n",
    "\n",
    "    image = get_grayscale(image)\n",
    "\n",
    "    if inverted:\n",
    "        image = thresholding(image, True)\n",
    "        image = dilate(image, 2, 2, 1)\n",
    "    else:\n",
    "        image = thresholding(image)\n",
    "        image = erode(image, 2, 2, 1)\n",
    "\n",
    "    return image"
   ]
  },
  {
   "cell_type": "code",
   "execution_count": 7,
   "id": "6b2120b1-55a1-4655-a415-a9619f0cc0d2",
   "metadata": {},
   "outputs": [
    {
     "data": {
      "image/png": "[encoded data removed]",
      "text/plain": [
       "<Figure size 432x288 with 1 Axes>"
      ]
     },
     "metadata": {},
     "output_type": "display_data"
    }
   ],
   "source": [
    "img = cv2.imread(\"input/train/0/0/0/000ab87284f6.png\")\n",
    "\n",
    "img = improve_quality(img)\n",
    "\n",
    "plt.subplot(1, 1, 1),plt.imshow(img, 'gray', vmin=0, vmax=255)\n",
    "plt.title('img')\n",
    "plt.xticks([]),plt.yticks([])\n",
    "plt.show()"
   ]
  }
 ],
 "metadata": {
  "kernelspec": {
   "display_name": "Python 3",
   "language": "python",
   "name": "python3"
  },
  "language_info": {
   "codemirror_mode": {
    "name": "ipython",
    "version": 3
   },
   "file_extension": ".py",
   "mimetype": "text/x-python",
   "name": "python",
   "nbconvert_exporter": "python",
   "pygments_lexer": "ipython3",
   "version": "3.8.8"
  }
 },
 "nbformat": 4,
 "nbformat_minor": 5
}
